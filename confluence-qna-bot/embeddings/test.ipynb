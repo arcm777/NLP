{
 "cells": [
  {
   "cell_type": "code",
   "execution_count": 3,
   "metadata": {},
   "outputs": [],
   "source": [
    "from langchain.embeddings import OpenAIEmbeddings\n",
    "from langchain.vectorstores import FAISS\n",
    "from langchain.text_splitter import RecursiveCharacterTextSplitter\n",
    "import os\n",
    "from dotenv import load_dotenv\n",
    "import sys\n",
    "sys.path.append(os.path.abspath(os.path.join(os.path.dirname('__file__'), \"..\")))\n"
   ]
  },
  {
   "cell_type": "code",
   "execution_count": 12,
   "metadata": {},
   "outputs": [],
   "source": [
    "\n",
    "from ingestion.confluence_scraper import fetch_confluence_pages\n",
    "load_dotenv()\n",
    "\n",
    "def create_vector_store(space_key=\"~7120202053283ed43142229fe7861504785210\"):\n",
    "    documents = fetch_confluence_pages(space_key)\n",
    "    texts = [doc[\"content\"] for doc in documents]\n",
    "\n",
    "    splitter = RecursiveCharacterTextSplitter(chunk_size=500, chunk_overlap=50)\n",
    "    chunks = splitter.create_documents(texts)\n",
    "\n",
    "    embeddings = OpenAIEmbeddings()\n",
    "    vectorstore = FAISS.from_documents(chunks, embeddings)\n",
    "    vectorstore.save_local(\"vectorstore_index\")\n",
    "\n",
    "if __name__ == \"__main__\":\n",
    "    create_vector_store(\"~7120202053283ed43142229fe7861504785210\")"
   ]
  },
  {
   "cell_type": "markdown",
   "metadata": {},
   "source": []
  },
  {
   "cell_type": "code",
   "execution_count": 6,
   "metadata": {},
   "outputs": [
    {
     "name": "stdout",
     "output_type": "stream",
     "text": [
      "~7120202053283ed43142229fe7861504785210: Andukuri Maharshi\n",
      "SD: Software development\n"
     ]
    }
   ],
   "source": [
    "from atlassian import Confluence\n",
    "import os\n",
    "from dotenv import load_dotenv\n",
    "\n",
    "load_dotenv()\n",
    "\n",
    "confluence = Confluence(\n",
    "    url=os.getenv(\"CONFLUENCE_BASE_URL\"),\n",
    "    username=os.getenv(\"CONFLUENCE_USERNAME\"),\n",
    "    password=os.getenv(\"CONFLUENCE_API_TOKEN\")\n",
    ")\n",
    "\n",
    "spaces = confluence.get_all_spaces(start=0, limit=100)\n",
    "for space in spaces['results']:\n",
    "    print(f\"{space['key']}: {space['name']}\")"
   ]
  },
  {
   "cell_type": "code",
   "execution_count": null,
   "metadata": {},
   "outputs": [],
   "source": [
    "# ATATT3xFfGF0XhFI2x5VRKdzuaSeGC8R8UuD8rUNU76eXMD2T82tkfj2-CJtHJPzDtjXIa6v5x3KhmRER2y9BZtHGctd97PUUF3FwSFjktQeiLhScLbuMa3B_vR9rH0hqFaGtctr5GjYwDOcnWmCmbBI-nqhLCLVUbmNIhHQjWoLi6ad2cGsE78=CF77B116\n",
    "\n",
    "# CONFLUENCE_API_TOKEN=ATATT3xFfGF0RMbQ9cZK5WJqc1BDjKcHe5PM33neNDO7uZqSUA711nbBwL8T8znScmBwTAgMbvS4uHEd2l21cTemKuICco8vASuXUAcwqLqONt8WfB_cL33sm_fESRP8ifMUJIyiqL6MSGOxT4ONf6AChEeDbvBoUQGAloB7-SE_DzrQ_EooDyE=07D88965"
   ]
  }
 ],
 "metadata": {
  "kernelspec": {
   "display_name": "confluenceqna",
   "language": "python",
   "name": "python3"
  },
  "language_info": {
   "codemirror_mode": {
    "name": "ipython",
    "version": 3
   },
   "file_extension": ".py",
   "mimetype": "text/x-python",
   "name": "python",
   "nbconvert_exporter": "python",
   "pygments_lexer": "ipython3",
   "version": "3.12.0"
  }
 },
 "nbformat": 4,
 "nbformat_minor": 2
}
